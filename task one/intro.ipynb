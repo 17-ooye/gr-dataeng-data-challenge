{
 "cells": [
  {
   "cell_type": "code",
   "execution_count": 3,
   "id": "25d50a42-3b7b-45a5-8536-912d09effe7d",
   "metadata": {},
   "outputs": [],
   "source": [
    "import pandas as pd\n",
    "import matplotlib.pyplot as plt"
   ]
  },
  {
   "cell_type": "code",
   "execution_count": 5,
   "id": "632bfe5b-3a39-4562-a380-9f6886699b1f",
   "metadata": {},
   "outputs": [],
   "source": [
    "df = pd.read_csv('data/tubes.csv')"
   ]
  },
  {
   "cell_type": "code",
   "execution_count": 9,
   "id": "9c08ea6e-c66e-4f69-ac87-8146854f1037",
   "metadata": {},
   "outputs": [
    {
     "data": {
      "text/html": [
       "<div>\n",
       "<style scoped>\n",
       "    .dataframe tbody tr th:only-of-type {\n",
       "        vertical-align: middle;\n",
       "    }\n",
       "\n",
       "    .dataframe tbody tr th {\n",
       "        vertical-align: top;\n",
       "    }\n",
       "\n",
       "    .dataframe thead th {\n",
       "        text-align: right;\n",
       "    }\n",
       "</style>\n",
       "<table border=\"1\" class=\"dataframe\">\n",
       "  <thead>\n",
       "    <tr style=\"text-align: right;\">\n",
       "      <th></th>\n",
       "      <th>Line</th>\n",
       "      <th>Opening Year</th>\n",
       "      <th>No Of Stations</th>\n",
       "    </tr>\n",
       "  </thead>\n",
       "  <tbody>\n",
       "    <tr>\n",
       "      <th>0</th>\n",
       "      <td>Bakerloo</td>\n",
       "      <td>1906</td>\n",
       "      <td>25</td>\n",
       "    </tr>\n",
       "    <tr>\n",
       "      <th>1</th>\n",
       "      <td>Central</td>\n",
       "      <td>1900</td>\n",
       "      <td>49</td>\n",
       "    </tr>\n",
       "    <tr>\n",
       "      <th>2</th>\n",
       "      <td>Circle</td>\n",
       "      <td>1871</td>\n",
       "      <td>36</td>\n",
       "    </tr>\n",
       "    <tr>\n",
       "      <th>3</th>\n",
       "      <td>District</td>\n",
       "      <td>1868</td>\n",
       "      <td>60</td>\n",
       "    </tr>\n",
       "    <tr>\n",
       "      <th>4</th>\n",
       "      <td>Hammersmith &amp; City</td>\n",
       "      <td>1864</td>\n",
       "      <td>29</td>\n",
       "    </tr>\n",
       "    <tr>\n",
       "      <th>5</th>\n",
       "      <td>Jubilee</td>\n",
       "      <td>1979</td>\n",
       "      <td>27</td>\n",
       "    </tr>\n",
       "    <tr>\n",
       "      <th>6</th>\n",
       "      <td>Metropolitan</td>\n",
       "      <td>1863</td>\n",
       "      <td>34</td>\n",
       "    </tr>\n",
       "    <tr>\n",
       "      <th>7</th>\n",
       "      <td>Northern</td>\n",
       "      <td>1890</td>\n",
       "      <td>52</td>\n",
       "    </tr>\n",
       "    <tr>\n",
       "      <th>8</th>\n",
       "      <td>Piccadilly</td>\n",
       "      <td>1906</td>\n",
       "      <td>53</td>\n",
       "    </tr>\n",
       "    <tr>\n",
       "      <th>9</th>\n",
       "      <td>Victoria</td>\n",
       "      <td>1968</td>\n",
       "      <td>16</td>\n",
       "    </tr>\n",
       "    <tr>\n",
       "      <th>10</th>\n",
       "      <td>Waterloo&amp;City</td>\n",
       "      <td>1898</td>\n",
       "      <td>2</td>\n",
       "    </tr>\n",
       "    <tr>\n",
       "      <th>11</th>\n",
       "      <td>Elizabeth</td>\n",
       "      <td>2022</td>\n",
       "      <td>41</td>\n",
       "    </tr>\n",
       "    <tr>\n",
       "      <th>12</th>\n",
       "      <td>Docklands Light Railway</td>\n",
       "      <td>1987</td>\n",
       "      <td>45</td>\n",
       "    </tr>\n",
       "    <tr>\n",
       "      <th>13</th>\n",
       "      <td>London Overground</td>\n",
       "      <td>2007</td>\n",
       "      <td>113</td>\n",
       "    </tr>\n",
       "  </tbody>\n",
       "</table>\n",
       "</div>"
      ],
      "text/plain": [
       "                       Line  Opening Year  No Of Stations\n",
       "0                  Bakerloo          1906              25\n",
       "1                   Central          1900              49\n",
       "2                    Circle          1871              36\n",
       "3                  District          1868              60\n",
       "4        Hammersmith & City          1864              29\n",
       "5                   Jubilee          1979              27\n",
       "6              Metropolitan          1863              34\n",
       "7                  Northern          1890              52\n",
       "8                Piccadilly          1906              53\n",
       "9                  Victoria          1968              16\n",
       "10            Waterloo&City          1898               2\n",
       "11                Elizabeth          2022              41\n",
       "12  Docklands Light Railway          1987              45\n",
       "13        London Overground          2007             113"
      ]
     },
     "execution_count": 9,
     "metadata": {},
     "output_type": "execute_result"
    }
   ],
   "source": [
    "df"
   ]
  },
  {
   "cell_type": "code",
   "execution_count": 4,
   "id": "7893b862-ebe2-41a1-96c7-8ebaae654faa",
   "metadata": {},
   "outputs": [
    {
     "data": {
      "text/plain": [
       "array([[<Axes: title={'center': 'No Of Stations'}>]], dtype=object)"
      ]
     },
     "execution_count": 4,
     "metadata": {},
     "output_type": "execute_result"
    },
    {
     "data": {
      "image/png": "[encoded data removed]",
      "text/plain": [
       "<Figure size 640x480 with 1 Axes>"
      ]
     },
     "metadata": {},
     "output_type": "display_data"
    }
   ],
   "source": [
    "df.hist('No Of Stations')"
   ]
  },
  {
   "cell_type": "code",
   "execution_count": 6,
   "id": "af792c4b-d663-45d2-bdfc-2b69a544d9a2",
   "metadata": {},
   "outputs": [
    {
     "data": {
      "text/plain": [
       "0     1906\n",
       "1     1900\n",
       "2     1871\n",
       "3     1868\n",
       "4     1864\n",
       "5     1979\n",
       "6     1863\n",
       "7     1890\n",
       "8     1906\n",
       "9     1968\n",
       "10    1898\n",
       "11    2022\n",
       "12    1987\n",
       "13    2007\n",
       "Name: Opening Year, dtype: int64"
      ]
     },
     "execution_count": 6,
     "metadata": {},
     "output_type": "execute_result"
    }
   ],
   "source": [
    "df['Opening Year']"
   ]
  },
  {
   "cell_type": "code",
   "execution_count": 7,
   "id": "6e2a4ba2-b9d0-4a0a-9f39-d2c7e0fd970f",
   "metadata": {},
   "outputs": [
    {
     "data": {
      "text/plain": [
       "Line              Bakerloo\n",
       "Opening Year          1906\n",
       "No Of Stations          25\n",
       "Name: 0, dtype: object"
      ]
     },
     "execution_count": 7,
     "metadata": {},
     "output_type": "execute_result"
    }
   ],
   "source": [
    "df.loc[0]"
   ]
  },
  {
   "cell_type": "code",
   "execution_count": 8,
   "id": "ca8ba762-1478-4052-a48d-0f4e0b8bbbc5",
   "metadata": {},
   "outputs": [
    {
     "data": {
      "text/plain": [
       "113"
      ]
     },
     "execution_count": 8,
     "metadata": {},
     "output_type": "execute_result"
    }
   ],
   "source": [
    "df['No Of Stations'].max()"
   ]
  },
  {
   "cell_type": "code",
   "execution_count": 10,
   "id": "20a1f654-d652-4665-80f2-25193dcbd51d",
   "metadata": {},
   "outputs": [
    {
     "data": {
      "text/plain": [
       "0                    Bakerloo\n",
       "1                     Central\n",
       "2                      Circle\n",
       "3                    District\n",
       "4          Hammersmith & City\n",
       "5                     Jubilee\n",
       "6                Metropolitan\n",
       "7                    Northern\n",
       "8                  Piccadilly\n",
       "9                    Victoria\n",
       "10              Waterloo&City\n",
       "11                  Elizabeth\n",
       "12    Docklands Light Railway\n",
       "13          London Overground\n",
       "Name: Line, dtype: object"
      ]
     },
     "execution_count": 10,
     "metadata": {},
     "output_type": "execute_result"
    }
   ],
   "source": [
    "df['Line']"
   ]
  },
  {
   "cell_type": "code",
   "execution_count": 11,
   "id": "af5509d8-9c95-44ab-9172-afe7a9005287",
   "metadata": {},
   "outputs": [
    {
     "ename": "ValueError",
     "evalue": "hist method requires numerical or datetime columns, nothing to plot.",
     "output_type": "error",
     "traceback": [
      "\u001b[1;31m---------------------------------------------------------------------------\u001b[0m",
      "\u001b[1;31mValueError\u001b[0m                                Traceback (most recent call last)",
      "Cell \u001b[1;32mIn[11], line 1\u001b[0m\n\u001b[1;32m----> 1\u001b[0m \u001b[43mdf\u001b[49m\u001b[38;5;241;43m.\u001b[39;49m\u001b[43mhist\u001b[49m\u001b[43m(\u001b[49m\u001b[38;5;124;43m'\u001b[39;49m\u001b[38;5;124;43mLine\u001b[39;49m\u001b[38;5;124;43m'\u001b[39;49m\u001b[43m)\u001b[49m\n",
      "File \u001b[1;32m~\\AppData\\Local\\Programs\\Python\\Python311\\Lib\\site-packages\\pandas\\plotting\\_core.py:223\u001b[0m, in \u001b[0;36mhist_frame\u001b[1;34m(data, column, by, grid, xlabelsize, xrot, ylabelsize, yrot, ax, sharex, sharey, figsize, layout, bins, backend, legend, **kwargs)\u001b[0m\n\u001b[0;32m    134\u001b[0m \u001b[38;5;250m\u001b[39m\u001b[38;5;124;03m\"\"\"\u001b[39;00m\n\u001b[0;32m    135\u001b[0m \u001b[38;5;124;03mMake a histogram of the DataFrame's columns.\u001b[39;00m\n\u001b[0;32m    136\u001b[0m \n\u001b[1;32m   (...)\u001b[0m\n\u001b[0;32m    220\u001b[0m \u001b[38;5;124;03m    >>> hist = df.hist(bins=3)\u001b[39;00m\n\u001b[0;32m    221\u001b[0m \u001b[38;5;124;03m\"\"\"\u001b[39;00m\n\u001b[0;32m    222\u001b[0m plot_backend \u001b[38;5;241m=\u001b[39m _get_plot_backend(backend)\n\u001b[1;32m--> 223\u001b[0m \u001b[38;5;28;01mreturn\u001b[39;00m \u001b[43mplot_backend\u001b[49m\u001b[38;5;241;43m.\u001b[39;49m\u001b[43mhist_frame\u001b[49m\u001b[43m(\u001b[49m\n\u001b[0;32m    224\u001b[0m \u001b[43m    \u001b[49m\u001b[43mdata\u001b[49m\u001b[43m,\u001b[49m\n\u001b[0;32m    225\u001b[0m \u001b[43m    \u001b[49m\u001b[43mcolumn\u001b[49m\u001b[38;5;241;43m=\u001b[39;49m\u001b[43mcolumn\u001b[49m\u001b[43m,\u001b[49m\n\u001b[0;32m    226\u001b[0m \u001b[43m    \u001b[49m\u001b[43mby\u001b[49m\u001b[38;5;241;43m=\u001b[39;49m\u001b[43mby\u001b[49m\u001b[43m,\u001b[49m\n\u001b[0;32m    227\u001b[0m \u001b[43m    \u001b[49m\u001b[43mgrid\u001b[49m\u001b[38;5;241;43m=\u001b[39;49m\u001b[43mgrid\u001b[49m\u001b[43m,\u001b[49m\n\u001b[0;32m    228\u001b[0m \u001b[43m    \u001b[49m\u001b[43mxlabelsize\u001b[49m\u001b[38;5;241;43m=\u001b[39;49m\u001b[43mxlabelsize\u001b[49m\u001b[43m,\u001b[49m\n\u001b[0;32m    229\u001b[0m \u001b[43m    \u001b[49m\u001b[43mxrot\u001b[49m\u001b[38;5;241;43m=\u001b[39;49m\u001b[43mxrot\u001b[49m\u001b[43m,\u001b[49m\n\u001b[0;32m    230\u001b[0m \u001b[43m    \u001b[49m\u001b[43mylabelsize\u001b[49m\u001b[38;5;241;43m=\u001b[39;49m\u001b[43mylabelsize\u001b[49m\u001b[43m,\u001b[49m\n\u001b[0;32m    231\u001b[0m \u001b[43m    \u001b[49m\u001b[43myrot\u001b[49m\u001b[38;5;241;43m=\u001b[39;49m\u001b[43myrot\u001b[49m\u001b[43m,\u001b[49m\n\u001b[0;32m    232\u001b[0m \u001b[43m    \u001b[49m\u001b[43max\u001b[49m\u001b[38;5;241;43m=\u001b[39;49m\u001b[43max\u001b[49m\u001b[43m,\u001b[49m\n\u001b[0;32m    233\u001b[0m \u001b[43m    \u001b[49m\u001b[43msharex\u001b[49m\u001b[38;5;241;43m=\u001b[39;49m\u001b[43msharex\u001b[49m\u001b[43m,\u001b[49m\n\u001b[0;32m    234\u001b[0m \u001b[43m    \u001b[49m\u001b[43msharey\u001b[49m\u001b[38;5;241;43m=\u001b[39;49m\u001b[43msharey\u001b[49m\u001b[43m,\u001b[49m\n\u001b[0;32m    235\u001b[0m \u001b[43m    \u001b[49m\u001b[43mfigsize\u001b[49m\u001b[38;5;241;43m=\u001b[39;49m\u001b[43mfigsize\u001b[49m\u001b[43m,\u001b[49m\n\u001b[0;32m    236\u001b[0m \u001b[43m    \u001b[49m\u001b[43mlayout\u001b[49m\u001b[38;5;241;43m=\u001b[39;49m\u001b[43mlayout\u001b[49m\u001b[43m,\u001b[49m\n\u001b[0;32m    237\u001b[0m \u001b[43m    \u001b[49m\u001b[43mlegend\u001b[49m\u001b[38;5;241;43m=\u001b[39;49m\u001b[43mlegend\u001b[49m\u001b[43m,\u001b[49m\n\u001b[0;32m    238\u001b[0m \u001b[43m    \u001b[49m\u001b[43mbins\u001b[49m\u001b[38;5;241;43m=\u001b[39;49m\u001b[43mbins\u001b[49m\u001b[43m,\u001b[49m\n\u001b[0;32m    239\u001b[0m \u001b[43m    \u001b[49m\u001b[38;5;241;43m*\u001b[39;49m\u001b[38;5;241;43m*\u001b[39;49m\u001b[43mkwargs\u001b[49m\u001b[43m,\u001b[49m\n\u001b[0;32m    240\u001b[0m \u001b[43m\u001b[49m\u001b[43m)\u001b[49m\n",
      "File \u001b[1;32m~\\AppData\\Local\\Programs\\Python\\Python311\\Lib\\site-packages\\pandas\\plotting\\_matplotlib\\hist.py:514\u001b[0m, in \u001b[0;36mhist_frame\u001b[1;34m(data, column, by, grid, xlabelsize, xrot, ylabelsize, yrot, ax, sharex, sharey, figsize, layout, bins, legend, **kwds)\u001b[0m\n\u001b[0;32m    511\u001b[0m naxes \u001b[38;5;241m=\u001b[39m \u001b[38;5;28mlen\u001b[39m(data\u001b[38;5;241m.\u001b[39mcolumns)\n\u001b[0;32m    513\u001b[0m \u001b[38;5;28;01mif\u001b[39;00m naxes \u001b[38;5;241m==\u001b[39m \u001b[38;5;241m0\u001b[39m:\n\u001b[1;32m--> 514\u001b[0m     \u001b[38;5;28;01mraise\u001b[39;00m \u001b[38;5;167;01mValueError\u001b[39;00m(\n\u001b[0;32m    515\u001b[0m         \u001b[38;5;124m\"\u001b[39m\u001b[38;5;124mhist method requires numerical or datetime columns, nothing to plot.\u001b[39m\u001b[38;5;124m\"\u001b[39m\n\u001b[0;32m    516\u001b[0m     )\n\u001b[0;32m    518\u001b[0m fig, axes \u001b[38;5;241m=\u001b[39m create_subplots(\n\u001b[0;32m    519\u001b[0m     naxes\u001b[38;5;241m=\u001b[39mnaxes,\n\u001b[0;32m    520\u001b[0m     ax\u001b[38;5;241m=\u001b[39max,\n\u001b[1;32m   (...)\u001b[0m\n\u001b[0;32m    525\u001b[0m     layout\u001b[38;5;241m=\u001b[39mlayout,\n\u001b[0;32m    526\u001b[0m )\n\u001b[0;32m    527\u001b[0m _axes \u001b[38;5;241m=\u001b[39m flatten_axes(axes)\n",
      "\u001b[1;31mValueError\u001b[0m: hist method requires numerical or datetime columns, nothing to plot."
     ]
    }
   ],
   "source": [
    "df.hist('Line')"
   ]
  },
  {
   "cell_type": "code",
   "execution_count": 12,
   "id": "c5095728-6664-47bb-b7fe-0a9c063c527a",
   "metadata": {},
   "outputs": [
    {
     "data": {
      "text/plain": [
       "41.57142857142857"
      ]
     },
     "execution_count": 12,
     "metadata": {},
     "output_type": "execute_result"
    }
   ],
   "source": [
    "df['No Of Stations'].mean()"
   ]
  },
  {
   "cell_type": "code",
   "execution_count": 13,
   "id": "6d7aa572-e08b-45ce-9fdf-acd7a33d0047",
   "metadata": {},
   "outputs": [
    {
     "data": {
      "text/plain": [
       "Line\n",
       "Bakerloo                   1\n",
       "Central                    1\n",
       "Circle                     1\n",
       "District                   1\n",
       "Hammersmith & City         1\n",
       "Jubilee                    1\n",
       "Metropolitan               1\n",
       "Northern                   1\n",
       "Piccadilly                 1\n",
       "Victoria                   1\n",
       "Waterloo&City              1\n",
       "Elizabeth                  1\n",
       "Docklands Light Railway    1\n",
       "London Overground          1\n",
       "Name: count, dtype: int64"
      ]
     },
     "execution_count": 13,
     "metadata": {},
     "output_type": "execute_result"
    }
   ],
   "source": [
    "df['Line'].value_counts()"
   ]
  }
 ],
 "metadata": {
  "kernelspec": {
   "display_name": "Python 3 (ipykernel)",
   "language": "python",
   "name": "python3"
  },
  "language_info": {
   "codemirror_mode": {
    "name": "ipython",
    "version": 3
   },
   "file_extension": ".py",
   "mimetype": "text/x-python",
   "name": "python",
   "nbconvert_exporter": "python",
   "pygments_lexer": "ipython3",
   "version": "3.11.4"
  }
 },
 "nbformat": 4,
 "nbformat_minor": 5
}
