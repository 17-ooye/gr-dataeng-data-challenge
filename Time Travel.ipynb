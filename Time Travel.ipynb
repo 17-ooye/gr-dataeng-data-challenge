{
 "cells": [
  {
   "cell_type": "code",
   "execution_count": 1,
   "id": "e5656908-9193-4be6-ad50-ffacbdf92f8f",
   "metadata": {},
   "outputs": [],
   "source": [
    "import pandas as pd\n",
    "import plotly.express as px"
   ]
  },
  {
   "cell_type": "code",
   "execution_count": 2,
   "id": "de73d4f8-7fea-4f10-92e5-00ff67d7a5c9",
   "metadata": {},
   "outputs": [],
   "source": [
    "df = pd.read_csv('data/crypto.csv')"
   ]
  },
  {
   "cell_type": "markdown",
   "id": "60fbfd27-5516-488f-8709-14b253c8b182",
   "metadata": {},
   "source": [
    "Q1. If you were sent back in time to a random date in the past with one Bitcoin worth £20,000 in today’s prices. What is the probability it will be worth more when you arrive in the past?  \n",
    "\n",
    "Q2. You get sent back in time to a random date in the past. You don't know the date, and you only have time to make one decision before you are transported back to the current day. What would you do in these situations, if you are\n",
    "    a) ...sent back with one Bitcoin worth £20,000 in today’s money, should you sell the coin or do you keep it? For each strategy, how much money would you make on average?  \n",
    "    b) ...sent back with money but no crypto-currency, should you buy one Bitcoin? For each strategy, how much money would you make on average?  \n",
    "\n",
    "Q3. You will be sent back to the 21st September 2021 (the most recent day in the dataset) and then will be sent back again to an earlier date:  \n",
    "    Should you:  \n",
    "    1) Buy a Bitcoin when you arrive in September and keep it till you are transported back to 2022?  \n",
    "    2) Buy a Bitcoin when you arrive in September and sell it when you are transported to an earlier date?  \n",
    "    3) Not buy a Bitcoin at all.  \n",
    "\n",
    "[Hard]\n",
    "Q4. Its the 1st January 2018 (the start of the dataset) and a future version of G-Research has just sent back a working time machine back.  \n",
    "    a) Whats the most money that could be made in the next three years if you knew what the closing price of Bitcoin would be tomorrow?  \n",
    "    b) Would you have still made money if you used your previous strategy, but the time machine was broken, such that you actually knew the closing price from one week before you thought? For example the 'known' price at the 8th September 2019 is actually the price at the 1st September 2019.  "
   ]
  },
  {
   "cell_type": "code",
   "execution_count": 3,
   "id": "338e6e5f-3f40-46f8-8439-4b64bc2af80f",
   "metadata": {},
   "outputs": [],
   "source": [
    "df = df[df['Asset_Name']=='Bitcoin']"
   ]
  },
  {
   "cell_type": "code",
   "execution_count": 4,
   "id": "ae88bb98-a88b-467b-925c-7b9cd0189962",
   "metadata": {},
   "outputs": [
    {
     "data": {
      "text/plain": [
       "(1360, 3)"
      ]
     },
     "execution_count": 4,
     "metadata": {},
     "output_type": "execute_result"
    }
   ],
   "source": [
    "df.shape"
   ]
  },
  {
   "cell_type": "code",
   "execution_count": 6,
   "id": "addf7b71-cbbf-450b-856f-5748f9e49c7e",
   "metadata": {},
   "outputs": [
    {
     "data": {
      "text/plain": [
       "(279, 3)"
      ]
     },
     "execution_count": 6,
     "metadata": {},
     "output_type": "execute_result"
    }
   ],
   "source": [
    "df[df['Close'] > 20000].shape"
   ]
  },
  {
   "cell_type": "code",
   "execution_count": 7,
   "id": "742efe18-d4a8-4a15-b883-c9f6f945c5df",
   "metadata": {},
   "outputs": [
    {
     "data": {
      "text/plain": [
       "20.514705882352942"
      ]
     },
     "execution_count": 7,
     "metadata": {},
     "output_type": "execute_result"
    }
   ],
   "source": [
    "279/1360 * 100"
   ]
  },
  {
   "cell_type": "code",
   "execution_count": 8,
   "id": "064e17af-f5ea-4781-9e35-98b0a3540948",
   "metadata": {},
   "outputs": [
    {
     "data": {
      "text/plain": [
       "15634.658444852941"
      ]
     },
     "execution_count": 8,
     "metadata": {},
     "output_type": "execute_result"
    }
   ],
   "source": [
    "# Question a\n",
    "df['Close'].mean()"
   ]
  },
  {
   "cell_type": "code",
   "execution_count": 11,
   "id": "ebc32d99-b33b-4146-a435-46a6825a6799",
   "metadata": {},
   "outputs": [
    {
     "data": {
      "text/html": [
       "<div>\n",
       "<style scoped>\n",
       "    .dataframe tbody tr th:only-of-type {\n",
       "        vertical-align: middle;\n",
       "    }\n",
       "\n",
       "    .dataframe tbody tr th {\n",
       "        vertical-align: top;\n",
       "    }\n",
       "\n",
       "    .dataframe thead th {\n",
       "        text-align: right;\n",
       "    }\n",
       "</style>\n",
       "<table border=\"1\" class=\"dataframe\">\n",
       "  <thead>\n",
       "    <tr style=\"text-align: right;\">\n",
       "      <th></th>\n",
       "      <th>Asset_Name</th>\n",
       "      <th>timestamp</th>\n",
       "      <th>Close</th>\n",
       "    </tr>\n",
       "  </thead>\n",
       "  <tbody>\n",
       "    <tr>\n",
       "      <th>4075</th>\n",
       "      <td>Bitcoin</td>\n",
       "      <td>2021-09-17</td>\n",
       "      <td>47769.5096</td>\n",
       "    </tr>\n",
       "    <tr>\n",
       "      <th>4076</th>\n",
       "      <td>Bitcoin</td>\n",
       "      <td>2021-09-18</td>\n",
       "      <td>47333.4914</td>\n",
       "    </tr>\n",
       "    <tr>\n",
       "      <th>4077</th>\n",
       "      <td>Bitcoin</td>\n",
       "      <td>2021-09-19</td>\n",
       "      <td>48295.5087</td>\n",
       "    </tr>\n",
       "    <tr>\n",
       "      <th>4078</th>\n",
       "      <td>Bitcoin</td>\n",
       "      <td>2021-09-20</td>\n",
       "      <td>47272.4743</td>\n",
       "    </tr>\n",
       "    <tr>\n",
       "      <th>4079</th>\n",
       "      <td>Bitcoin</td>\n",
       "      <td>2021-09-21</td>\n",
       "      <td>43002.5050</td>\n",
       "    </tr>\n",
       "  </tbody>\n",
       "</table>\n",
       "</div>"
      ],
      "text/plain": [
       "     Asset_Name   timestamp       Close\n",
       "4075    Bitcoin  2021-09-17  47769.5096\n",
       "4076    Bitcoin  2021-09-18  47333.4914\n",
       "4077    Bitcoin  2021-09-19  48295.5087\n",
       "4078    Bitcoin  2021-09-20  47272.4743\n",
       "4079    Bitcoin  2021-09-21  43002.5050"
      ]
     },
     "execution_count": 11,
     "metadata": {},
     "output_type": "execute_result"
    }
   ],
   "source": [
    "# QUESTION 3\n",
    "df.tail()\n",
    "\n",
    "# BC worth 43002.5050"
   ]
  },
  {
   "cell_type": "code",
   "execution_count": 12,
   "id": "e086d7fc-4288-4927-8734-e184f0a35ebb",
   "metadata": {},
   "outputs": [],
   "source": [
    "# QUESTION 4"
   ]
  },
  {
   "cell_type": "code",
   "execution_count": 14,
   "id": "5cd25a60-9cd6-4999-8ae7-37de856f3b14",
   "metadata": {},
   "outputs": [],
   "source": [
    "df['day_profit'] = df['Close'].diff()"
   ]
  },
  {
   "cell_type": "code",
   "execution_count": 15,
   "id": "bea2ac82-ea53-45ef-b51d-b3850899ff47",
   "metadata": {},
   "outputs": [
    {
     "data": {
      "text/html": [
       "<div>\n",
       "<style scoped>\n",
       "    .dataframe tbody tr th:only-of-type {\n",
       "        vertical-align: middle;\n",
       "    }\n",
       "\n",
       "    .dataframe tbody tr th {\n",
       "        vertical-align: top;\n",
       "    }\n",
       "\n",
       "    .dataframe thead th {\n",
       "        text-align: right;\n",
       "    }\n",
       "</style>\n",
       "<table border=\"1\" class=\"dataframe\">\n",
       "  <thead>\n",
       "    <tr style=\"text-align: right;\">\n",
       "      <th></th>\n",
       "      <th>Asset_Name</th>\n",
       "      <th>timestamp</th>\n",
       "      <th>Close</th>\n",
       "      <th>day_profit</th>\n",
       "    </tr>\n",
       "  </thead>\n",
       "  <tbody>\n",
       "    <tr>\n",
       "      <th>2720</th>\n",
       "      <td>Bitcoin</td>\n",
       "      <td>2018-01-01</td>\n",
       "      <td>13850.176</td>\n",
       "      <td>NaN</td>\n",
       "    </tr>\n",
       "    <tr>\n",
       "      <th>2721</th>\n",
       "      <td>Bitcoin</td>\n",
       "      <td>2018-01-02</td>\n",
       "      <td>13468.698</td>\n",
       "      <td>-381.478</td>\n",
       "    </tr>\n",
       "    <tr>\n",
       "      <th>2722</th>\n",
       "      <td>Bitcoin</td>\n",
       "      <td>2018-01-03</td>\n",
       "      <td>14743.424</td>\n",
       "      <td>1274.726</td>\n",
       "    </tr>\n",
       "    <tr>\n",
       "      <th>2723</th>\n",
       "      <td>Bitcoin</td>\n",
       "      <td>2018-01-04</td>\n",
       "      <td>15107.792</td>\n",
       "      <td>364.368</td>\n",
       "    </tr>\n",
       "    <tr>\n",
       "      <th>2724</th>\n",
       "      <td>Bitcoin</td>\n",
       "      <td>2018-01-05</td>\n",
       "      <td>15158.492</td>\n",
       "      <td>50.700</td>\n",
       "    </tr>\n",
       "  </tbody>\n",
       "</table>\n",
       "</div>"
      ],
      "text/plain": [
       "     Asset_Name   timestamp      Close  day_profit\n",
       "2720    Bitcoin  2018-01-01  13850.176         NaN\n",
       "2721    Bitcoin  2018-01-02  13468.698    -381.478\n",
       "2722    Bitcoin  2018-01-03  14743.424    1274.726\n",
       "2723    Bitcoin  2018-01-04  15107.792     364.368\n",
       "2724    Bitcoin  2018-01-05  15158.492      50.700"
      ]
     },
     "execution_count": 15,
     "metadata": {},
     "output_type": "execute_result"
    }
   ],
   "source": [
    "df.head()"
   ]
  },
  {
   "cell_type": "code",
   "execution_count": 17,
   "id": "f1c4487c-3053-4b61-acfa-bcf22ddad442",
   "metadata": {},
   "outputs": [
    {
     "data": {
      "text/plain": [
       "333102.07269999996"
      ]
     },
     "execution_count": 17,
     "metadata": {},
     "output_type": "execute_result"
    }
   ],
   "source": [
    "df[df['day_profit'] > 0]['day_profit'].sum()"
   ]
  },
  {
   "cell_type": "code",
   "execution_count": 18,
   "id": "3ccfb7a7-6e36-4414-a3f7-144a23d82e53",
   "metadata": {},
   "outputs": [],
   "source": [
    "df['broken_profit'] = df['Close'].diff(7)"
   ]
  },
  {
   "cell_type": "code",
   "execution_count": 21,
   "id": "10103edc-476e-42f0-818b-ead59cd7f31a",
   "metadata": {},
   "outputs": [
    {
     "data": {
      "text/html": [
       "<div>\n",
       "<style scoped>\n",
       "    .dataframe tbody tr th:only-of-type {\n",
       "        vertical-align: middle;\n",
       "    }\n",
       "\n",
       "    .dataframe tbody tr th {\n",
       "        vertical-align: top;\n",
       "    }\n",
       "\n",
       "    .dataframe thead th {\n",
       "        text-align: right;\n",
       "    }\n",
       "</style>\n",
       "<table border=\"1\" class=\"dataframe\">\n",
       "  <thead>\n",
       "    <tr style=\"text-align: right;\">\n",
       "      <th></th>\n",
       "      <th>Asset_Name</th>\n",
       "      <th>timestamp</th>\n",
       "      <th>Close</th>\n",
       "      <th>day_profit</th>\n",
       "      <th>broken_profit</th>\n",
       "    </tr>\n",
       "  </thead>\n",
       "  <tbody>\n",
       "    <tr>\n",
       "      <th>2720</th>\n",
       "      <td>Bitcoin</td>\n",
       "      <td>2018-01-01</td>\n",
       "      <td>13850.1760</td>\n",
       "      <td>NaN</td>\n",
       "      <td>NaN</td>\n",
       "    </tr>\n",
       "    <tr>\n",
       "      <th>2721</th>\n",
       "      <td>Bitcoin</td>\n",
       "      <td>2018-01-02</td>\n",
       "      <td>13468.6980</td>\n",
       "      <td>-381.4780</td>\n",
       "      <td>NaN</td>\n",
       "    </tr>\n",
       "    <tr>\n",
       "      <th>2722</th>\n",
       "      <td>Bitcoin</td>\n",
       "      <td>2018-01-03</td>\n",
       "      <td>14743.4240</td>\n",
       "      <td>1274.7260</td>\n",
       "      <td>NaN</td>\n",
       "    </tr>\n",
       "    <tr>\n",
       "      <th>2723</th>\n",
       "      <td>Bitcoin</td>\n",
       "      <td>2018-01-04</td>\n",
       "      <td>15107.7920</td>\n",
       "      <td>364.3680</td>\n",
       "      <td>NaN</td>\n",
       "    </tr>\n",
       "    <tr>\n",
       "      <th>2724</th>\n",
       "      <td>Bitcoin</td>\n",
       "      <td>2018-01-05</td>\n",
       "      <td>15158.4920</td>\n",
       "      <td>50.7000</td>\n",
       "      <td>NaN</td>\n",
       "    </tr>\n",
       "    <tr>\n",
       "      <th>2725</th>\n",
       "      <td>Bitcoin</td>\n",
       "      <td>2018-01-06</td>\n",
       "      <td>16935.5560</td>\n",
       "      <td>1777.0640</td>\n",
       "      <td>NaN</td>\n",
       "    </tr>\n",
       "    <tr>\n",
       "      <th>2726</th>\n",
       "      <td>Bitcoin</td>\n",
       "      <td>2018-01-07</td>\n",
       "      <td>17118.7640</td>\n",
       "      <td>183.2080</td>\n",
       "      <td>NaN</td>\n",
       "    </tr>\n",
       "    <tr>\n",
       "      <th>2727</th>\n",
       "      <td>Bitcoin</td>\n",
       "      <td>2018-01-08</td>\n",
       "      <td>16174.2625</td>\n",
       "      <td>-944.5015</td>\n",
       "      <td>2324.0865</td>\n",
       "    </tr>\n",
       "    <tr>\n",
       "      <th>2728</th>\n",
       "      <td>Bitcoin</td>\n",
       "      <td>2018-01-09</td>\n",
       "      <td>14941.9780</td>\n",
       "      <td>-1232.2845</td>\n",
       "      <td>1473.2800</td>\n",
       "    </tr>\n",
       "    <tr>\n",
       "      <th>2729</th>\n",
       "      <td>Bitcoin</td>\n",
       "      <td>2018-01-10</td>\n",
       "      <td>14463.1640</td>\n",
       "      <td>-478.8140</td>\n",
       "      <td>-280.2600</td>\n",
       "    </tr>\n",
       "    <tr>\n",
       "      <th>2730</th>\n",
       "      <td>Bitcoin</td>\n",
       "      <td>2018-01-11</td>\n",
       "      <td>14915.5380</td>\n",
       "      <td>452.3740</td>\n",
       "      <td>-192.2540</td>\n",
       "    </tr>\n",
       "    <tr>\n",
       "      <th>2731</th>\n",
       "      <td>Bitcoin</td>\n",
       "      <td>2018-01-12</td>\n",
       "      <td>13240.4860</td>\n",
       "      <td>-1675.0520</td>\n",
       "      <td>-1918.0060</td>\n",
       "    </tr>\n",
       "    <tr>\n",
       "      <th>2732</th>\n",
       "      <td>Bitcoin</td>\n",
       "      <td>2018-01-13</td>\n",
       "      <td>13816.5600</td>\n",
       "      <td>576.0740</td>\n",
       "      <td>-3118.9960</td>\n",
       "    </tr>\n",
       "    <tr>\n",
       "      <th>2733</th>\n",
       "      <td>Bitcoin</td>\n",
       "      <td>2018-01-14</td>\n",
       "      <td>14228.8633</td>\n",
       "      <td>412.3033</td>\n",
       "      <td>-2889.9007</td>\n",
       "    </tr>\n",
       "    <tr>\n",
       "      <th>2734</th>\n",
       "      <td>Bitcoin</td>\n",
       "      <td>2018-01-15</td>\n",
       "      <td>13582.4852</td>\n",
       "      <td>-646.3781</td>\n",
       "      <td>-2591.7773</td>\n",
       "    </tr>\n",
       "    <tr>\n",
       "      <th>2735</th>\n",
       "      <td>Bitcoin</td>\n",
       "      <td>2018-01-16</td>\n",
       "      <td>13581.8533</td>\n",
       "      <td>-0.6319</td>\n",
       "      <td>-1360.1247</td>\n",
       "    </tr>\n",
       "    <tr>\n",
       "      <th>2736</th>\n",
       "      <td>Bitcoin</td>\n",
       "      <td>2018-01-17</td>\n",
       "      <td>11256.2000</td>\n",
       "      <td>-2325.6533</td>\n",
       "      <td>-3206.9640</td>\n",
       "    </tr>\n",
       "    <tr>\n",
       "      <th>2737</th>\n",
       "      <td>Bitcoin</td>\n",
       "      <td>2018-01-18</td>\n",
       "      <td>11082.9950</td>\n",
       "      <td>-173.2050</td>\n",
       "      <td>-3832.5430</td>\n",
       "    </tr>\n",
       "    <tr>\n",
       "      <th>2738</th>\n",
       "      <td>Bitcoin</td>\n",
       "      <td>2018-01-19</td>\n",
       "      <td>11119.6967</td>\n",
       "      <td>36.7017</td>\n",
       "      <td>-2120.7893</td>\n",
       "    </tr>\n",
       "    <tr>\n",
       "      <th>2739</th>\n",
       "      <td>Bitcoin</td>\n",
       "      <td>2018-01-20</td>\n",
       "      <td>11520.7483</td>\n",
       "      <td>401.0516</td>\n",
       "      <td>-2295.8117</td>\n",
       "    </tr>\n",
       "  </tbody>\n",
       "</table>\n",
       "</div>"
      ],
      "text/plain": [
       "     Asset_Name   timestamp       Close  day_profit  broken_profit\n",
       "2720    Bitcoin  2018-01-01  13850.1760         NaN            NaN\n",
       "2721    Bitcoin  2018-01-02  13468.6980   -381.4780            NaN\n",
       "2722    Bitcoin  2018-01-03  14743.4240   1274.7260            NaN\n",
       "2723    Bitcoin  2018-01-04  15107.7920    364.3680            NaN\n",
       "2724    Bitcoin  2018-01-05  15158.4920     50.7000            NaN\n",
       "2725    Bitcoin  2018-01-06  16935.5560   1777.0640            NaN\n",
       "2726    Bitcoin  2018-01-07  17118.7640    183.2080            NaN\n",
       "2727    Bitcoin  2018-01-08  16174.2625   -944.5015      2324.0865\n",
       "2728    Bitcoin  2018-01-09  14941.9780  -1232.2845      1473.2800\n",
       "2729    Bitcoin  2018-01-10  14463.1640   -478.8140      -280.2600\n",
       "2730    Bitcoin  2018-01-11  14915.5380    452.3740      -192.2540\n",
       "2731    Bitcoin  2018-01-12  13240.4860  -1675.0520     -1918.0060\n",
       "2732    Bitcoin  2018-01-13  13816.5600    576.0740     -3118.9960\n",
       "2733    Bitcoin  2018-01-14  14228.8633    412.3033     -2889.9007\n",
       "2734    Bitcoin  2018-01-15  13582.4852   -646.3781     -2591.7773\n",
       "2735    Bitcoin  2018-01-16  13581.8533     -0.6319     -1360.1247\n",
       "2736    Bitcoin  2018-01-17  11256.2000  -2325.6533     -3206.9640\n",
       "2737    Bitcoin  2018-01-18  11082.9950   -173.2050     -3832.5430\n",
       "2738    Bitcoin  2018-01-19  11119.6967     36.7017     -2120.7893\n",
       "2739    Bitcoin  2018-01-20  11520.7483    401.0516     -2295.8117"
      ]
     },
     "execution_count": 21,
     "metadata": {},
     "output_type": "execute_result"
    }
   ],
   "source": [
    "df.head(20)"
   ]
  },
  {
   "cell_type": "code",
   "execution_count": 22,
   "id": "22584b7d-ee68-49d2-bf0a-f7eaeb925ccd",
   "metadata": {},
   "outputs": [
    {
     "data": {
      "text/plain": [
       "1001526.1491"
      ]
     },
     "execution_count": 22,
     "metadata": {},
     "output_type": "execute_result"
    }
   ],
   "source": [
    "df[df['broken_profit'] > 0]['broken_profit'].sum()"
   ]
  },
  {
   "cell_type": "code",
   "execution_count": null,
   "id": "8f1a84ee-65a3-4e03-b663-ed019c24ccff",
   "metadata": {},
   "outputs": [],
   "source": []
  }
 ],
 "metadata": {
  "kernelspec": {
   "display_name": "Python 3 (ipykernel)",
   "language": "python",
   "name": "python3"
  },
  "language_info": {
   "codemirror_mode": {
    "name": "ipython",
    "version": 3
   },
   "file_extension": ".py",
   "mimetype": "text/x-python",
   "name": "python",
   "nbconvert_exporter": "python",
   "pygments_lexer": "ipython3",
   "version": "3.10.3"
  }
 },
 "nbformat": 4,
 "nbformat_minor": 5
}
